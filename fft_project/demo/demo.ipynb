{
 "cells": [
  {
   "cell_type": "code",
   "execution_count": 1,
   "metadata": {},
   "outputs": [],
   "source": [
    "import time\n",
    "\n",
    "import numpy as np\n",
    "import fft_project"
   ]
  },
  {
   "cell_type": "code",
   "execution_count": 2,
   "metadata": {},
   "outputs": [],
   "source": [
    "\n",
    "def random_matrix(n, m):\n",
    "    result = np.zeros((n, m), dtype=np.complex128)\n",
    "    result.real = np.random.rand(n, m)\n",
    "    return result\n"
   ]
  },
  {
   "cell_type": "code",
   "execution_count": 3,
   "metadata": {},
   "outputs": [],
   "source": [
    "import time\n",
    "mx_power = 13\n",
    "\n",
    "def mesure_no_ret_copy(times):\n",
    "    for dim1 in range(mx_power - 2, mx_power + 1):\n",
    "        for dim2 in range(dim1 - 2, dim1 + 1):\n",
    "            time.sleep(0.5)\n",
    "            n = 2 ** dim1\n",
    "            m = 2 ** dim2\n",
    "            a = random_matrix(n, m)\n",
    "            st_time = time.time()\n",
    "            fft_project.fft.fft2d(a, return_copy=False, use_threads=False)\n",
    "            delta_time = time.time() - st_time\n",
    "            del a\n",
    "            print(f'No copy: {n}x{m} {delta_time}')\n",
    "            times.append(((n, m), delta_time))\n",
    "\n",
    "def measure_numpy(times):\n",
    "    for dim1 in range(mx_power - 2, mx_power + 1):\n",
    "        for dim2 in range(dim1 - 2, dim1 + 1):\n",
    "            time.sleep(0.5)\n",
    "            n = 2 ** dim1\n",
    "            m = 2 ** dim2\n",
    "            a = random_matrix(n, m)\n",
    "            st_time = time.time()\n",
    "            np.fft.fft2(a)\n",
    "            delta_time = time.time() - st_time\n",
    "            del a\n",
    "            print(f'Numpy: {n}x{m} {delta_time}')\n",
    "            times.append(((n, m), delta_time))\n",
    "\n",
    "def with_copy(times):\n",
    "    for dim1 in range(mx_power - 2, mx_power + 1):\n",
    "        for dim2 in range(dim1 - 2, dim1 + 1):\n",
    "            time.sleep(0.5)\n",
    "            n = 2 ** dim1\n",
    "            m = 2 ** dim2\n",
    "            a = random_matrix(n, m)\n",
    "            st_time = time.time()\n",
    "            fft_project.fft.fft2d(a, return_copy=True, use_threads=False)\n",
    "            delta_time = time.time() - st_time\n",
    "            del a\n",
    "            print(f'With copy: {n}x{m} {delta_time}')\n",
    "            times.append(((n, m), delta_time))\n",
    "\n",
    "def multithreaded(times):\n",
    "    for dim1 in range(mx_power - 2, mx_power + 1):\n",
    "        for dim2 in range(dim1 - 2, dim1 + 1):\n",
    "            time.sleep(0.5)\n",
    "            n = 2 ** dim1\n",
    "            m = 2 ** dim2\n",
    "            a = random_matrix(n, m)\n",
    "            st_time = time.time()\n",
    "            fft_project.fft.fft2d(a, return_copy=False, use_threads=True)\n",
    "            delta_time = time.time() - st_time\n",
    "            del a\n",
    "            print(f'Multirhreaded: {n}x{m} {delta_time}')\n",
    "            times.append(((n, m), delta_time))\n",
    "\n"
   ]
  },
  {
   "cell_type": "code",
   "execution_count": 4,
   "metadata": {},
   "outputs": [
    {
     "name": "stdout",
     "output_type": "stream",
     "text": [
      "No copy: 2048x512 0.010283946990966797\n",
      "No copy: 2048x1024 0.02272486686706543\n",
      "No copy: 2048x2048 0.044197797775268555\n",
      "No copy: 4096x1024 0.04215288162231445\n",
      "No copy: 4096x2048 0.08451104164123535\n",
      "No copy: 4096x4096 0.17661595344543457\n",
      "No copy: 8192x2048 0.16993260383605957\n",
      "No copy: 8192x4096 0.40029072761535645\n",
      "No copy: 8192x8192 0.8575220108032227\n",
      "With copy: 2048x512 0.018339157104492188\n",
      "With copy: 2048x1024 0.031269073486328125\n",
      "With copy: 2048x2048 0.05278301239013672\n",
      "With copy: 4096x1024 0.05027294158935547\n",
      "With copy: 4096x2048 0.10036277770996094\n",
      "With copy: 4096x4096 0.21607494354248047\n",
      "With copy: 8192x2048 0.19866275787353516\n",
      "With copy: 8192x4096 0.4445040225982666\n",
      "With copy: 8192x8192 1.3733587265014648\n",
      "Multirhreaded: 2048x512 0.00816798210144043\n",
      "Multirhreaded: 2048x1024 0.010670900344848633\n",
      "Multirhreaded: 2048x2048 0.013063192367553711\n",
      "Multirhreaded: 4096x1024 0.01945209503173828\n",
      "Multirhreaded: 4096x2048 0.029773950576782227\n",
      "Multirhreaded: 4096x4096 0.054780006408691406\n",
      "Multirhreaded: 8192x2048 0.06962108612060547\n",
      "Multirhreaded: 8192x4096 0.12577009201049805\n",
      "Multirhreaded: 8192x8192 0.2791769504547119\n",
      "Numpy: 2048x512 0.02372884750366211\n",
      "Numpy: 2048x1024 0.03928494453430176\n",
      "Numpy: 2048x2048 0.06815886497497559\n",
      "Numpy: 4096x1024 0.06844806671142578\n",
      "Numpy: 4096x2048 0.13258004188537598\n",
      "Numpy: 4096x4096 0.29184722900390625\n",
      "Numpy: 8192x2048 0.2839469909667969\n",
      "Numpy: 8192x4096 0.7004423141479492\n",
      "Numpy: 8192x8192 1.8914737701416016\n"
     ]
    }
   ],
   "source": [
    "no_return_copy = []\n",
    "numpy_times = []\n",
    "with_copy_times = []\n",
    "multithreaded_times = []\n",
    "\n",
    "mesure_no_ret_copy(no_return_copy)\n",
    "with_copy(with_copy_times)\n",
    "multithreaded(multithreaded_times)\n",
    "measure_numpy(numpy_times)"
   ]
  },
  {
   "attachments": {},
   "cell_type": "markdown",
   "metadata": {},
   "source": []
  },
  {
   "cell_type": "code",
   "execution_count": null,
   "metadata": {},
   "outputs": [],
   "source": [
    "print(numpy_times)\n",
    "print(with_copy_times)\n",
    "\n",
    "header = 'Matrix size,Numpy time (s),Our time (s)'\n",
    "data = list()\n",
    "for (a, b) in numpy_times:\n",
    "    for (xa, xb) in with_copy_times:\n",
    "        if (a == xa):\n",
    "            data.append([f'{a[0]}x{a[1]}', b, xb])\n",
    "\n"
   ]
  },
  {
   "cell_type": "code",
   "execution_count": null,
   "metadata": {},
   "outputs": [],
   "source": [
    "no_return_copy = []\n",
    "numpy_times = []\n",
    "with_copy_times = []\n",
    "multithreaded_times = []\n",
    "\n",
    "\n",
    "# mesure_no_ret_copy(no_return_copy)\n",
    "measure_numpy(numpy_times)\n",
    "with_copy(with_copy_times)\n",
    "# multithreaded(multithreaded_times)"
   ]
  },
  {
   "cell_type": "code",
   "execution_count": null,
   "metadata": {},
   "outputs": [],
   "source": [
    "no_return_copy = []\n",
    "numpy_times = []\n",
    "with_copy_times = []\n",
    "multithreaded_times = []\n",
    "\n",
    "\n",
    "# mesure_no_ret_copy(no_return_copy)\n",
    "measure_numpy(numpy_times)\n",
    "with_copy(with_copy_times)\n",
    "# multithreaded(multithreaded_times)"
   ]
  },
  {
   "cell_type": "code",
   "execution_count": null,
   "metadata": {},
   "outputs": [],
   "source": [
    "def by_matrix_size(x):\n",
    "    return x[0][0] * x[0][1]\n",
    "\n",
    "sorted_no_return_copy = sorted(no_return_copy, key=by_matrix_size)\n",
    "sorted_numpy_times = sorted(numpy_times, key=by_matrix_size)\n",
    "sorted_multithreaded_times = sorted(multithreaded_times, key=by_matrix_size)\n",
    "sorted_with_copy_times = sorted(with_copy_times, key=by_matrix_size)\n",
    "\n",
    "print (sorted_no_return_copy)\n",
    "print (sorted_numpy_times)"
   ]
  },
  {
   "cell_type": "code",
   "execution_count": null,
   "metadata": {},
   "outputs": [],
   "source": [
    "!pip3 install matplotlib"
   ]
  },
  {
   "cell_type": "code",
   "execution_count": null,
   "metadata": {},
   "outputs": [],
   "source": [
    "import matplotlib.pyplot as plt\n",
    "\n",
    "no_copy_inp_size    = list(x[0][0] * x[0][1] for x in sorted_no_return_copy     ) # [0:90]\n",
    "no_copy_time        = list(x[1]              for x in sorted_no_return_copy     ) # [0:90]\n",
    "np_time             = list(x[1]              for x in sorted_numpy_times        ) # [0:90]\n",
    "multithreaded_time  = list(x[1]              for x in sorted_multithreaded_times) # [0:90]\n",
    "with_copy_time      = list(x[1]              for x in sorted_with_copy_times    ) # [0:90]\n",
    "\n",
    "plt.plot(no_copy_inp_size, np_time, label='Numpy')\n",
    "plt.plot(no_copy_inp_size, with_copy_time, label='Our (with extra copy)')\n",
    "plt.plot(no_copy_inp_size, no_copy_time, label='Our (no copy)')\n",
    "plt.plot(no_copy_inp_size, multithreaded_time, label='Our (multithreaded, no copy)')\n",
    "\n",
    "plt.xlabel('Matrix input size')\n",
    "plt.ylabel('Time (s)')\n",
    "\n",
    "plt.legend()\n",
    "plt.show()"
   ]
  }
 ],
 "metadata": {
  "kernelspec": {
   "display_name": "venv",
   "language": "python",
   "name": "python3"
  },
  "language_info": {
   "codemirror_mode": {
    "name": "ipython",
    "version": 3
   },
   "file_extension": ".py",
   "mimetype": "text/x-python",
   "name": "python",
   "nbconvert_exporter": "python",
   "pygments_lexer": "ipython3",
   "version": "3.9.6"
  },
  "orig_nbformat": 4
 },
 "nbformat": 4,
 "nbformat_minor": 2
}
