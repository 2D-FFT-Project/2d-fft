{
 "cells": [
  {
   "cell_type": "markdown",
   "metadata": {},
   "source": [
    "# Memory usage measurements"
   ]
  },
  {
   "cell_type": "code",
   "execution_count": 1,
   "metadata": {},
   "outputs": [],
   "source": [
    "import sys\n",
    "import subprocess\n",
    "import shutil\n",
    "import tempfile\n",
    "from pathlib import Path\n",
    "\n",
    "assert shutil.which('valgrind')\n",
    "assert shutil.which('ms_print')\n",
    "\n",
    "CWD = Path.cwd()\n",
    "\n",
    "def invoke_massif(args, output):\n",
    "  subprocess.run([\n",
    "    'valgrind', '--tool=massif', f'--massif-out-file={output}'\n",
    "  ]  + args, stdout=subprocess.DEVNULL, stderr=subprocess.DEVNULL, cwd=CWD)\n",
    "\n",
    "\n",
    "def memory_graph(test_name, code):\n",
    "  massif_output = test_name + '.massif'\n",
    "  cwd = Path().cwd()\n",
    "  invoke_massif([\n",
    "    sys.executable, '-c', ';'.join(code.split('\\n'))\n",
    "  ], massif_output)\n",
    "  return '\\n'.join(subprocess.check_output(\n",
    "    ['ms_print', massif_output], cwd=CWD\n",
    "  ).decode().split('\\n\\n')[:2])\n"
   ]
  },
  {
   "cell_type": "code",
   "execution_count": 2,
   "metadata": {},
   "outputs": [],
   "source": [
    "random_matr = '''\\\n",
    "import numpy as np\n",
    "n = 4096\n",
    "m = 2 * n\n",
    "matr = np.zeros((n, m), dtype=np.complex128)\n",
    "matr = np.random.rand(n, m)\n",
    "'''"
   ]
  },
  {
   "cell_type": "markdown",
   "metadata": {},
   "source": [
    "Numpy:"
   ]
  },
  {
   "cell_type": "code",
   "execution_count": 3,
   "metadata": {},
   "outputs": [
    {
     "name": "stdout",
     "output_type": "stream",
     "text": [
      "--------------------------------------------------------------------------------\n",
      "Command:            /home/gyzavyalov-rpi/tree/public/2d-fft/venv/bin/python -c import numpy as np;n = 4096;m = 2 * n;matr = np.zeros((n, m), dtype=np.complex128);matr = np.random.rand(n, m);import numpy;expected = numpy.fft.fft2(matr);print(expected);\n",
      "Massif arguments:   --massif-out-file=numpy.massif\n",
      "ms_print arguments: numpy.massif\n",
      "--------------------------------------------------------------------------------\n",
      "\n",
      "    GB\n",
      "1.254^                                                    #                   \n",
      "     |                                                    #:::::::::::::::::::\n",
      "     |                                                    #::::::::::::::: :::\n",
      "     |                                                    #::::::::::::::: :::\n",
      "     |                                                    #::::::::::::::: :::\n",
      "     |                                                    #::::::::::::::: :::\n",
      "     |                                                    #::::::::::::::: :::\n",
      "     |                                                    #::::::::::::::: :::\n",
      "     |                 @::::::::::::::::::::::::::::::::::#::::::::::::::: :::\n",
      "     |                 @:::::::::::: ::::::::::           #::::::::::::::: :::\n",
      "     |                 @:::::::::::: ::::::::::           #::::::::::::::: :::\n",
      "     |                 @:::::::::::: ::::::::::           #::::::::::::::: :::\n",
      "     |                 @:::::::::::: ::::::::::           #::::::::::::::: :::\n",
      "     |                 @:::::::::::: ::::::::::           #::::::::::::::: :::\n",
      "     |                 @:::::::::::: ::::::::::           #::::::::::::::: :::\n",
      "     |                 @:::::::::::: ::::::::::           #::::::::::::::: :::\n",
      "     |                 @:::::::::::: ::::::::::           #::::::::::::::: :::\n",
      "     |                 @:::::::::::: ::::::::::           #::::::::::::::: :::\n",
      "     |                 @:::::::::::: ::::::::::           #::::::::::::::: :::\n",
      "     |                 @:::::::::::: ::::::::::           #::::::::::::::: :::\n",
      "   0 +----------------------------------------------------------------------->Gi\n",
      "     0                                                                   10.93\n"
     ]
    },
    {
     "name": "stderr",
     "output_type": "stream",
     "text": [
      "perl: warning: Setting locale failed.\n",
      "perl: warning: Please check that your locale settings:\n",
      "\tLANGUAGE = (unset),\n",
      "\tLC_ALL = \"en_US.UTF-8\",\n",
      "\tLC_CTYPE = \"en_US.UTF-8\",\n",
      "\tLC_TERMINAL = \"iTerm2\",\n",
      "\tLANG = \"en_GB.UTF-8\"\n",
      "    are supported and installed on your system.\n",
      "perl: warning: Falling back to a fallback locale (\"en_GB.UTF-8\").\n"
     ]
    }
   ],
   "source": [
    "numpy_test = random_matr + '''\\\n",
    "import numpy\n",
    "expected = numpy.fft.fft2(matr)\n",
    "print(expected)\n",
    "'''\n",
    "\n",
    "print(memory_graph('numpy', numpy_test))"
   ]
  },
  {
   "cell_type": "markdown",
   "metadata": {},
   "source": [
    "FFT with type conversion:"
   ]
  },
  {
   "cell_type": "code",
   "execution_count": 4,
   "metadata": {},
   "outputs": [
    {
     "name": "stdout",
     "output_type": "stream",
     "text": [
      "--------------------------------------------------------------------------------\n",
      "Command:            /home/gyzavyalov-rpi/tree/public/2d-fft/venv/bin/python -c import numpy as np;n = 4096;m = 2 * n;matr = np.zeros((n, m), dtype=np.complex128);matr = np.random.rand(n, m);import fft_project;expected = fft_project.fft2d(matr, return_copy=True, use_threads=False);print(expected);\n",
      "Massif arguments:   --massif-out-file=type_conversions.massif\n",
      "ms_print arguments: type_conversions.massif\n",
      "--------------------------------------------------------------------------------\n",
      "\n",
      "    MB\n",
      "772.0^                     :::::::::::::::::::::::::::::::::::::::::::::::::: \n",
      "     |                  #:::                                                 :\n",
      "     |                  #: :                                                 :\n",
      "     |                  #: :                                                 :\n",
      "     |                  #: :                                                 :\n",
      "     |                  #: :                                                 :\n",
      "     |                  #: :                                                 :\n",
      "     |                  #: :                                                 :\n",
      "     |                  #: :                                                 :\n",
      "     |                  #: :                                                 :\n",
      "     |                  #: :                                                 :\n",
      "     |                  #: :                                                 :\n",
      "     |                  #: :                                                 :\n",
      "     |                  #: :                                                 :\n",
      "     |                  #: :                                                 :\n",
      "     |                  #: :                                                 :\n",
      "     |                  #: :                                                 :\n",
      "     |                  #: :                                                 :\n",
      "     |                  #: :                                                 :\n",
      "     |                  #: :                                                 :\n",
      "   0 +----------------------------------------------------------------------->Gi\n",
      "     0                                                                   10.25\n"
     ]
    },
    {
     "name": "stderr",
     "output_type": "stream",
     "text": [
      "perl: warning: Setting locale failed.\n",
      "perl: warning: Please check that your locale settings:\n",
      "\tLANGUAGE = (unset),\n",
      "\tLC_ALL = \"en_US.UTF-8\",\n",
      "\tLC_CTYPE = \"en_US.UTF-8\",\n",
      "\tLC_TERMINAL = \"iTerm2\",\n",
      "\tLANG = \"en_GB.UTF-8\"\n",
      "    are supported and installed on your system.\n",
      "perl: warning: Falling back to a fallback locale (\"en_GB.UTF-8\").\n"
     ]
    }
   ],
   "source": [
    "fft_type_conversion = random_matr + '''\\\n",
    "import fft_project\n",
    "expected = fft_project.fft2d(matr, return_copy=True, use_threads=False)\n",
    "print(expected)\n",
    "'''\n",
    "\n",
    "print(memory_graph('type_conversions', fft_type_conversion))"
   ]
  },
  {
   "cell_type": "markdown",
   "metadata": {},
   "source": [
    "FFT with no type conversions"
   ]
  },
  {
   "cell_type": "code",
   "execution_count": 5,
   "metadata": {},
   "outputs": [
    {
     "name": "stdout",
     "output_type": "stream",
     "text": [
      "--------------------------------------------------------------------------------\n",
      "Command:            /home/gyzavyalov-rpi/tree/public/2d-fft/venv/bin/python -c import numpy as np;n = 4096;m = 2 * n;matr = np.zeros((n, m), dtype=np.complex128);matr = np.random.rand(n, m);import fft_project;expected = fft_project.fft2d(matr, return_copy=False, use_threads=False);print(expected);\n",
      "Massif arguments:   --massif-out-file=no_type_conv.massif\n",
      "ms_print arguments: no_type_conv.massif\n",
      "--------------------------------------------------------------------------------\n",
      "\n",
      "    MB\n",
      "771.8^                                                                       #\n",
      "     |                                                                       #\n",
      "     |                                                                       #\n",
      "     |                                                                       #\n",
      "     |                                                                       #\n",
      "     |                                                                       #\n",
      "     |                                                                       #\n",
      "     |                                                                       #\n",
      "     |                                                                       #\n",
      "     |                                                                       #\n",
      "     |                                                                       #\n",
      "     |                                                                       #\n",
      "     |                                                                       #\n",
      "     |                                                                       #\n",
      "     |                                                                       #\n",
      "     |                                                                       #\n",
      "     |                                                                       #\n",
      "     |                                                                       #\n",
      "     |                                                                       #\n",
      "     |                                                                       #\n",
      "   0 +----------------------------------------------------------------------->Gi\n",
      "     0                                                                   2.632\n"
     ]
    },
    {
     "name": "stderr",
     "output_type": "stream",
     "text": [
      "perl: warning: Setting locale failed.\n",
      "perl: warning: Please check that your locale settings:\n",
      "\tLANGUAGE = (unset),\n",
      "\tLC_ALL = \"en_US.UTF-8\",\n",
      "\tLC_CTYPE = \"en_US.UTF-8\",\n",
      "\tLC_TERMINAL = \"iTerm2\",\n",
      "\tLANG = \"en_GB.UTF-8\"\n",
      "    are supported and installed on your system.\n",
      "perl: warning: Falling back to a fallback locale (\"en_GB.UTF-8\").\n"
     ]
    }
   ],
   "source": [
    "fft_no_type_conv = random_matr + '''\\\n",
    "import fft_project\n",
    "expected = fft_project.fft2d(matr, return_copy=False, use_threads=False)\n",
    "print(expected)\n",
    "'''\n",
    "\n",
    "print(memory_graph('no_type_conv', fft_no_type_conv))"
   ]
  }
 ],
 "metadata": {
  "kernelspec": {
   "display_name": "Python 3",
   "language": "python",
   "name": "python3"
  },
  "language_info": {
   "codemirror_mode": {
    "name": "ipython",
    "version": 3
   },
   "file_extension": ".py",
   "mimetype": "text/x-python",
   "name": "python",
   "nbconvert_exporter": "python",
   "pygments_lexer": "ipython3",
   "version": "3.11.2"
  }
 },
 "nbformat": 4,
 "nbformat_minor": 2
}
