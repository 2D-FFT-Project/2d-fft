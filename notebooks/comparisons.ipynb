{
 "cells": [
  {
   "cell_type": "code",
   "execution_count": 12,
   "metadata": {},
   "outputs": [
    {
     "name": "stdout",
     "output_type": "stream",
     "text": [
      "Requirement already satisfied: numpy in /Users/sasha/anaconda3/lib/python3.11/site-packages (1.26.4)\n",
      "Requirement already satisfied: scipy in /Users/sasha/anaconda3/lib/python3.11/site-packages (1.12.0)\n",
      "Requirement already satisfied: numpy<1.29.0,>=1.22.4 in /Users/sasha/anaconda3/lib/python3.11/site-packages (from scipy) (1.26.4)\n"
     ]
    }
   ],
   "source": [
    "!pip3 install numpy --upgrade\n",
    "!pip3 install scipy --upgrade"
   ]
  },
  {
   "cell_type": "code",
   "execution_count": 13,
   "metadata": {},
   "outputs": [],
   "source": [
    "import psutil\n",
    "import logging\n",
    "from importlib import reload\n",
    "\n",
    "import fft_project\n",
    "from fft_project import base\n",
    "\n",
    "import numpy as np\n",
    "from scipy.fft import fft2, ifft2"
   ]
  },
  {
   "cell_type": "code",
   "execution_count": 14,
   "metadata": {},
   "outputs": [
    {
     "name": "stdout",
     "output_type": "stream",
     "text": [
      "======================================== CPU Info ========================================\n",
      "Physical cores: 4\n",
      "Total cores: 8\n",
      "Max Frequency: 2800.00Mhz\n",
      "Min Frequency: 2800.00Mhz\n",
      "Current Frequency: 2800.00Mhz\n"
     ]
    }
   ],
   "source": [
    "'''Below are the testcases, where we controlled the multithreading and creating copies\n",
    "of our version of 2DFFT versus Scipy fft2'''\n",
    "\n",
    "#Printing out Current CPU Info\n",
    "print(\"=\"*40, \"CPU Info\", \"=\"*40)\n",
    "print(\"Physical cores:\", psutil.cpu_count(logical=False))\n",
    "print(\"Total cores:\", psutil.cpu_count(logical=True))\n",
    "cpufreq = psutil.cpu_freq()\n",
    "print(f\"Max Frequency: {cpufreq.max:.2f}Mhz\")\n",
    "print(f\"Min Frequency: {cpufreq.min:.2f}Mhz\")\n",
    "print(f\"Current Frequency: {cpufreq.current:.2f}Mhz\")"
   ]
  },
  {
   "cell_type": "code",
   "execution_count": 15,
   "metadata": {},
   "outputs": [],
   "source": [
    "def random_matrix(n, m):\n",
    "    logging.info(f'Matrix shape: {n}x{m}')\n",
    "    result = np.zeros((n, m), dtype=np.complex128)\n",
    "    result.real = np.random.rand(n, m)\n",
    "    return result\n",
    "\n",
    "reload(logging)\n",
    "base.prepare_logger()\n"
   ]
  },
  {
   "cell_type": "markdown",
   "metadata": {},
   "source": [
    "Multithreading enabled and type conversions"
   ]
  },
  {
   "cell_type": "code",
   "execution_count": 22,
   "metadata": {},
   "outputs": [
    {
     "name": "stderr",
     "output_type": "stream",
     "text": [
      "[INFO]  Matrix shape: 4096x8192\n"
     ]
    },
    {
     "name": "stdout",
     "output_type": "stream",
     "text": [
      "Scipy Time:\n",
      "483 ms ± 76.8 ms per loop (mean ± std. dev. of 7 runs, 1 loop each)\n",
      "Our Time:\n",
      "1.02 s ± 32.4 ms per loop (mean ± std. dev. of 7 runs, 1 loop each)\n"
     ]
    },
    {
     "name": "stderr",
     "output_type": "stream",
     "text": [
      "[INFO]  Is the result correct: True\n",
      "[INFO]  Matrix shape: 8192x4096\n"
     ]
    },
    {
     "name": "stdout",
     "output_type": "stream",
     "text": [
      "Scipy Time:\n",
      "492 ms ± 21.9 ms per loop (mean ± std. dev. of 7 runs, 1 loop each)\n",
      "Our Time:\n",
      "1.05 s ± 11.8 ms per loop (mean ± std. dev. of 7 runs, 1 loop each)\n"
     ]
    },
    {
     "name": "stderr",
     "output_type": "stream",
     "text": [
      "[INFO]  Is the result correct: True\n"
     ]
    }
   ],
   "source": [
    "def fft_cpp_impl_test():\n",
    "    result = random_matrix(4096, 4096 * 2)\n",
    "    print('Scipy Time:')\n",
    "    %timeit -o scipy.fft.fft2(result, workers= -1)\n",
    "    print('Our Time:')\n",
    "    %timeit -o fft_project.fft2d(result, return_copy=True, use_threads=True)\n",
    "    expected = fft2(result, workers= -1)\n",
    "    result = fft_project.fft2d(result, return_copy=True, use_threads=True)\n",
    "    correctness = np.allclose(result, expected, atol=0.05)\n",
    "    logging.info(f'Is the result correct: {correctness}')\n",
    "    assert correctness\n",
    "\n",
    "def inverse_test():\n",
    "    a = random_matrix(4096 * 2, 4096)\n",
    "    transformed = fft_project.fft2d(a, return_copy=True, use_threads=True)\n",
    "    print('Scipy Time:')\n",
    "    %timeit -o scipy.fft.ifft2(transformed, workers= -1)\n",
    "    print('Our Time:')\n",
    "    %timeit -o fft_project.fft2d(transformed, return_copy=True, use_threads=True, inverse=True)\n",
    "    inversed_scipy = ifft2(transformed, workers= -1)\n",
    "    inversed_our = fft_project.fft2d(\n",
    "    transformed, return_copy=True, use_threads=True, inverse=True\n",
    "    )\n",
    "    correctness = np.allclose(inversed_our, inversed_scipy, atol=0.05)\n",
    "    logging.info(f'Is the result correct: {correctness}')\n",
    "    assert correctness\n",
    "\n",
    "fft_cpp_impl_test()\n",
    "inverse_test()\n"
   ]
  },
  {
   "cell_type": "markdown",
   "metadata": {},
   "source": [
    "With multithreading enabled, no type conversions"
   ]
  },
  {
   "cell_type": "code",
   "execution_count": 21,
   "metadata": {},
   "outputs": [
    {
     "name": "stderr",
     "output_type": "stream",
     "text": [
      "[INFO]  Matrix shape: 4096x8192\n"
     ]
    },
    {
     "name": "stdout",
     "output_type": "stream",
     "text": [
      "Scipy Time:\n",
      "648 ms ± 74.5 ms per loop (mean ± std. dev. of 7 runs, 1 loop each)\n",
      "Our Time:\n",
      "698 ms ± 37.5 ms per loop (mean ± std. dev. of 7 runs, 1 loop each)\n"
     ]
    },
    {
     "name": "stderr",
     "output_type": "stream",
     "text": [
      "[INFO]  Is the result correct: True\n",
      "[INFO]  Matrix shape: 8192x4096\n"
     ]
    },
    {
     "name": "stdout",
     "output_type": "stream",
     "text": [
      "Scipy Time:\n",
      "589 ms ± 41.1 ms per loop (mean ± std. dev. of 7 runs, 1 loop each)\n",
      "Our Time:\n",
      "689 ms ± 49.7 ms per loop (mean ± std. dev. of 7 runs, 1 loop each)\n"
     ]
    },
    {
     "name": "stderr",
     "output_type": "stream",
     "text": [
      "[INFO]  Is the result correct: True\n"
     ]
    }
   ],
   "source": [
    "def fft_cpp_impl_test():\n",
    "    result = random_matrix(4096, 4096 * 2)\n",
    "    print('Scipy Time:')\n",
    "    %timeit -o scipy.fft.fft2(result, workers =-1)\n",
    "    print('Our Time:')\n",
    "    %timeit -o fft_project.fft2d(result, return_copy=False, use_threads=True)\n",
    "    expected = fft2(result, workers= -1)\n",
    "    result = fft_project.fft2d(result, return_copy=False, use_threads=True)\n",
    "    correctness = np.allclose(result, expected, atol=0.05)\n",
    "    logging.info(f'Is the result correct: {correctness}')\n",
    "    assert correctness\n",
    "\n",
    "def inverse_test():\n",
    "    a = random_matrix(4096 * 2, 4096)\n",
    "    transformed = fft_project.fft2d(a, return_copy=False, use_threads=True)\n",
    "    print('Scipy Time:')\n",
    "    %timeit -o scipy.fft.ifft2(transformed, workers= -1)\n",
    "    print('Our Time:')\n",
    "    %timeit -o fft_project.fft2d(transformed, return_copy=False, use_threads=True, inverse=True)\n",
    "    inversed_scipy = ifft2(transformed, workers= -1)\n",
    "    inversed_our = fft_project.fft2d(\n",
    "    transformed, return_copy=False, use_threads=True, inverse=True\n",
    "    )\n",
    "    correctness = np.allclose(inversed_our, inversed_scipy, atol=0.05)\n",
    "    logging.info(f'Is the result correct: {correctness}')\n",
    "    assert correctness\n",
    "\n",
    "fft_cpp_impl_test()\n",
    "inverse_test()\n"
   ]
  },
  {
   "cell_type": "markdown",
   "metadata": {},
   "source": [
    "No multithreading, with type conversions"
   ]
  },
  {
   "cell_type": "code",
   "execution_count": 20,
   "metadata": {},
   "outputs": [
    {
     "name": "stderr",
     "output_type": "stream",
     "text": [
      "[INFO]  Matrix shape: 4096x8192\n"
     ]
    },
    {
     "name": "stdout",
     "output_type": "stream",
     "text": [
      "Scipy Time:\n",
      "1.79 s ± 86.4 ms per loop (mean ± std. dev. of 7 runs, 1 loop each)\n",
      "Our Time:\n",
      "1.53 s ± 13.1 ms per loop (mean ± std. dev. of 7 runs, 1 loop each)\n"
     ]
    },
    {
     "name": "stderr",
     "output_type": "stream",
     "text": [
      "[INFO]  Is the result correct: True\n",
      "[INFO]  Matrix shape: 8192x4096\n"
     ]
    },
    {
     "name": "stdout",
     "output_type": "stream",
     "text": [
      "Scipy Time:\n",
      "1.64 s ± 20.5 ms per loop (mean ± std. dev. of 7 runs, 1 loop each)\n",
      "Our Time:\n",
      "1.73 s ± 150 ms per loop (mean ± std. dev. of 7 runs, 1 loop each)\n"
     ]
    },
    {
     "name": "stderr",
     "output_type": "stream",
     "text": [
      "[INFO]  Is the result correct: True\n"
     ]
    }
   ],
   "source": [
    "def fft_cpp_impl_test():\n",
    "    result = random_matrix(4096, 4096 * 2)\n",
    "    print('Scipy Time:')\n",
    "    %timeit -o scipy.fft.fft2(result)\n",
    "    print('Our Time:')\n",
    "    %timeit -o fft_project.fft2d(result, return_copy=True, use_threads=False)\n",
    "    expected = fft2(result)\n",
    "    result = fft_project.fft2d(result, return_copy=True, use_threads=False)\n",
    "    correctness = np.allclose(result, expected, atol=0.05)\n",
    "    logging.info(f'Is the result correct: {correctness}')\n",
    "    assert correctness\n",
    "\n",
    "def inverse_test():\n",
    "    a = random_matrix(4096 * 2, 4096)\n",
    "    transformed = fft_project.fft2d(a, return_copy=True, use_threads=False)\n",
    "    print('Scipy Time:')\n",
    "    %timeit -o scipy.fft.ifft2(transformed)\n",
    "    print('Our Time:')\n",
    "    %timeit -o fft_project.fft2d(transformed, return_copy=True, use_threads=False, inverse=True)\n",
    "    inversed_scipy = ifft2(transformed)\n",
    "    inversed_our = fft_project.fft2d(\n",
    "    transformed, return_copy=True, use_threads=False, inverse=True\n",
    "    )\n",
    "    correctness = np.allclose(inversed_our, inversed_scipy, atol=0.05)\n",
    "    logging.info(f'Is the result correct: {correctness}')\n",
    "    assert correctness\n",
    "\n",
    "fft_cpp_impl_test()\n",
    "inverse_test()"
   ]
  },
  {
   "cell_type": "markdown",
   "metadata": {},
   "source": [
    "No multithreading, no type conversions"
   ]
  },
  {
   "cell_type": "code",
   "execution_count": 19,
   "metadata": {},
   "outputs": [
    {
     "name": "stderr",
     "output_type": "stream",
     "text": [
      "[INFO]  Matrix shape: 4096x8192\n"
     ]
    },
    {
     "name": "stdout",
     "output_type": "stream",
     "text": [
      "Scipy Time:\n",
      "1.8 s ± 92.3 ms per loop (mean ± std. dev. of 7 runs, 1 loop each)\n",
      "Our Time:\n",
      "1.21 s ± 69.5 ms per loop (mean ± std. dev. of 7 runs, 1 loop each)\n"
     ]
    },
    {
     "name": "stderr",
     "output_type": "stream",
     "text": [
      "[INFO]  Is the result correct: True\n",
      "[INFO]  Matrix shape: 8192x4096\n"
     ]
    },
    {
     "name": "stdout",
     "output_type": "stream",
     "text": [
      "Scipy Time:\n",
      "1.74 s ± 101 ms per loop (mean ± std. dev. of 7 runs, 1 loop each)\n",
      "Our Time:\n",
      "1.2 s ± 73.3 ms per loop (mean ± std. dev. of 7 runs, 1 loop each)\n"
     ]
    },
    {
     "name": "stderr",
     "output_type": "stream",
     "text": [
      "[INFO]  Is the result correct: True\n"
     ]
    }
   ],
   "source": [
    "def fft_cpp_impl_test():\n",
    "    result = random_matrix(4096, 4096 * 2)\n",
    "    print('Scipy Time:')\n",
    "    %timeit -o scipy.fft.fft2(result)\n",
    "    print('Our Time:')\n",
    "    %timeit -o fft_project.fft2d(result, return_copy=False, use_threads=False)\n",
    "    expected = fft2(result)\n",
    "    result = fft_project.fft2d(result, return_copy=False, use_threads=False)\n",
    "    correctness = np.allclose(result, expected, atol=0.05)\n",
    "    logging.info(f'Is the result correct: {correctness}')\n",
    "    assert correctness\n",
    "\n",
    "def inverse_test():\n",
    "    a = random_matrix(4096 * 2, 4096)\n",
    "    transformed = fft_project.fft2d(a, return_copy=False, use_threads=False)\n",
    "    print('Scipy Time:')\n",
    "    %timeit -o scipy.fft.ifft2(transformed)\n",
    "    print('Our Time:')\n",
    "    %timeit -o fft_project.fft2d(transformed, return_copy=False, use_threads=False, inverse=True)\n",
    "    inversed_scipy = ifft2(transformed)\n",
    "    inversed_our = fft_project.fft2d(\n",
    "    transformed, return_copy=False, use_threads=False, inverse=True)\n",
    "    correctness = np.allclose(inversed_our, inversed_scipy, atol=0.05)\n",
    "    logging.info(f'Is the result correct: {correctness}')\n",
    "    assert correctness\n",
    "\n",
    "fft_cpp_impl_test()\n",
    "inverse_test()"
   ]
  }
 ],
 "metadata": {
  "kernelspec": {
   "display_name": "venv",
   "language": "python",
   "name": "python3"
  },
  "language_info": {
   "codemirror_mode": {
    "name": "ipython",
    "version": 3
   },
   "file_extension": ".py",
   "mimetype": "text/x-python",
   "name": "python",
   "nbconvert_exporter": "python",
   "pygments_lexer": "ipython3",
   "version": "3.11.5"
  }
 },
 "nbformat": 4,
 "nbformat_minor": 2
}
