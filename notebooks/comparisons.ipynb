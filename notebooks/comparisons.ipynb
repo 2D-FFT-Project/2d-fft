{
 "cells": [
  {
   "cell_type": "code",
   "execution_count": 1,
   "metadata": {},
   "outputs": [
    {
     "name": "stdout",
     "output_type": "stream",
     "text": [
      "Defaulting to user installation because normal site-packages is not writeable\n",
      "Requirement already satisfied: numpy in /Users/gyzavyalov/Library/Python/3.9/lib/python/site-packages (1.26.4)\n",
      "\u001b[33mWARNING: You are using pip version 21.2.4; however, version 24.0 is available.\n",
      "You should consider upgrading via the '/Applications/Xcode-15.2.app/Contents/Developer/usr/bin/python3 -m pip install --upgrade pip' command.\u001b[0m\n",
      "Defaulting to user installation because normal site-packages is not writeable\n",
      "Requirement already satisfied: scipy in /Users/gyzavyalov/Library/Python/3.9/lib/python/site-packages (1.12.0)\n",
      "Requirement already satisfied: numpy<1.29.0,>=1.22.4 in /Users/gyzavyalov/Library/Python/3.9/lib/python/site-packages (from scipy) (1.26.4)\n",
      "\u001b[33mWARNING: You are using pip version 21.2.4; however, version 24.0 is available.\n",
      "You should consider upgrading via the '/Applications/Xcode-15.2.app/Contents/Developer/usr/bin/python3 -m pip install --upgrade pip' command.\u001b[0m\n"
     ]
    }
   ],
   "source": [
    "!pip3 install numpy --upgrade\n",
    "!pip3 install scipy --upgrade"
   ]
  },
  {
   "cell_type": "code",
   "execution_count": 1,
   "metadata": {},
   "outputs": [],
   "source": [
    "import fft_project\n",
    "import psutil\n",
    "import logging\n",
    "import time\n",
    "import scipy\n",
    "import numpy as np\n",
    "from importlib import reload\n",
    "from fft_project import base\n"
   ]
  },
  {
   "cell_type": "code",
   "execution_count": 2,
   "metadata": {},
   "outputs": [
    {
     "name": "stdout",
     "output_type": "stream",
     "text": [
      "======================================== CPU Info ========================================\n",
      "Physical cores: 10\n",
      "Total cores: 10\n",
      "Max Frequency: 3228.00Mhz\n",
      "Min Frequency: 600.00Mhz\n",
      "Current Frequency: 3228.00Mhz\n"
     ]
    }
   ],
   "source": [
    "'''Below are the testcases, where we controlled the multithreading and creating copies\n",
    "of our version of 2DFFT versus Scipy fft2'''\n",
    "\n",
    "#Printing out Current CPU Info\n",
    "print(\"=\"*40, \"CPU Info\", \"=\"*40)\n",
    "print(\"Physical cores:\", psutil.cpu_count(logical=False))\n",
    "print(\"Total cores:\", psutil.cpu_count(logical=True))\n",
    "cpufreq = psutil.cpu_freq()\n",
    "print(f\"Max Frequency: {cpufreq.max:.2f}Mhz\")\n",
    "print(f\"Min Frequency: {cpufreq.min:.2f}Mhz\")\n",
    "print(f\"Current Frequency: {cpufreq.current:.2f}Mhz\")"
   ]
  },
  {
   "cell_type": "code",
   "execution_count": 3,
   "metadata": {},
   "outputs": [],
   "source": [
    "def random_matrix(n, m):\n",
    "    logging.info(f'Matrix shape: {n}x{m}')\n",
    "    result = np.zeros((n, m), dtype=np.complex128)\n",
    "    result.real = np.random.rand(n, m)\n",
    "    return result\n",
    "\n",
    "reload(logging)\n",
    "base.prepare_logger()\n"
   ]
  },
  {
   "cell_type": "markdown",
   "metadata": {},
   "source": [
    "Measurements with multithreading disabled, and no type conversions"
   ]
  },
  {
   "cell_type": "code",
   "execution_count": 4,
   "metadata": {},
   "outputs": [
    {
     "name": "stderr",
     "output_type": "stream",
     "text": [
      "[INFO]  Matrix shape: 4096x8192\n",
      "[INFO]  Scipy: 0.6872367858886719\n",
      "[INFO]  Our: 0.3775169849395752\n",
      "[INFO]  54.93% of Scipy time!\n",
      "[INFO]  Matrix shape: 8192x4096\n",
      "[INFO]  Scipy: 0.12027382850646973\n",
      "[INFO]  Our: 0.3624122142791748\n",
      "[INFO]  301.32% of Scipy time!\n"
     ]
    }
   ],
   "source": [
    "def fft_cpp_impl_test():\n",
    "    result = random_matrix(4096, 4096 * 2)\n",
    "    start = time.time()\n",
    "    expected = scipy.fft.fft2(result)\n",
    "    scipy_time = time.time() - start\n",
    "    logging.info(f'Scipy: {scipy_time}')\n",
    "    start = time.time()\n",
    "    result = fft_project.fft2d(result, return_copy=False, use_threads=False)\n",
    "    our_time = time.time() - start\n",
    "    logging.info(f'Our: {our_time}')\n",
    "    logging.info(f'{our_time / scipy_time * 100:.2f}% of Scipy time!')\n",
    "    expected = abs(expected)\n",
    "    result = abs(result)\n",
    "    correctness = np.allclose(result, expected, atol=0.05)\n",
    "    assert correctness\n",
    "\n",
    "def inverse_test():\n",
    "    a = random_matrix(4096 * 2, 4096)\n",
    "    transformed = fft_project.fft2d(a, return_copy=False, use_threads=False)\n",
    "    start = time.time()\n",
    "    inversed_scipy = scipy.fft.ifft2(transformed, workers = -1)\n",
    "    scipy_time = time.time() - start\n",
    "    logging.info(f'Scipy: {scipy_time}')\n",
    "    inversed_our = transformed\n",
    "    start = time.time()\n",
    "    inversed_our = fft_project.fft2d(\n",
    "        inversed_our, return_copy=False, use_threads=False, inverse=True\n",
    "    )\n",
    "    our_time = time.time() - start\n",
    "    logging.info(f'Our: {our_time}')\n",
    "    logging.info(f'{our_time / scipy_time * 100:.2f}% of Scipy time!')\n",
    "    inversed_scipy = abs(inversed_scipy)\n",
    "    inversed_our = abs(inversed_our)\n",
    "    correctness = np.allclose(inversed_our, inversed_scipy, atol=0.05)\n",
    "    assert correctness\n",
    "\n",
    "fft_cpp_impl_test()\n",
    "inverse_test()"
   ]
  },
  {
   "cell_type": "markdown",
   "metadata": {},
   "source": [
    "With multithreading enabled, no type conversions"
   ]
  },
  {
   "cell_type": "code",
   "execution_count": 5,
   "metadata": {},
   "outputs": [
    {
     "name": "stderr",
     "output_type": "stream",
     "text": [
      "[INFO]  Matrix shape: 4096x8192\n",
      "[INFO]  Scipy: 0.533566951751709\n",
      "[INFO]  Our: 0.14099717140197754\n",
      "[INFO]  26.43% of Scipy time!\n",
      "[INFO]  Matrix shape: 8192x4096\n",
      "[INFO]  Scipy: 0.12809967994689941\n",
      "[INFO]  Our: 0.13840174674987793\n",
      "[INFO]  108.04% of Scipy time!\n"
     ]
    }
   ],
   "source": [
    "def fft_cpp_impl_test():\n",
    "    result = random_matrix(4096, 4096 * 2)\n",
    "    start = time.time()\n",
    "    expected = scipy.fft.fft2(result)\n",
    "    scipy_time = time.time() - start\n",
    "    logging.info(f'Scipy: {scipy_time}')\n",
    "    start = time.time()\n",
    "    result = fft_project.fft2d(result, return_copy=False, use_threads=True)\n",
    "    our_time = time.time() - start\n",
    "    logging.info(f'Our: {our_time}')\n",
    "    logging.info(f'{our_time / scipy_time * 100:.2f}% of Scipy time!')\n",
    "    expected = abs(expected)\n",
    "    result = abs(result)\n",
    "    correctness = np.allclose(result, expected, atol=0.05)\n",
    "    assert correctness\n",
    "\n",
    "def inverse_test():\n",
    "    a = random_matrix(4096 * 2, 4096)\n",
    "    transformed = fft_project.fft2d(a, return_copy=False, use_threads=True)\n",
    "    start = time.time()\n",
    "    inversed_scipy = scipy.fft.ifft2(transformed, workers = -1)\n",
    "    scipy_time = time.time() - start\n",
    "    logging.info(f'Scipy: {scipy_time}')\n",
    "    inversed_our = transformed\n",
    "    start = time.time()\n",
    "    inversed_our = fft_project.fft2d(\n",
    "        inversed_our, return_copy=False, use_threads=True, inverse=True\n",
    "    )\n",
    "    our_time = time.time() - start\n",
    "    logging.info(f'Our: {our_time}')\n",
    "    logging.info(f'{our_time / scipy_time * 100:.2f}% of Scipy time!')\n",
    "    inversed_scipy = abs(inversed_scipy)\n",
    "    inversed_our = abs(inversed_our)\n",
    "    correctness = np.allclose(inversed_our, inversed_scipy, atol=0.05)\n",
    "    assert correctness\n",
    "\n",
    "fft_cpp_impl_test()\n",
    "inverse_test()"
   ]
  },
  {
   "cell_type": "markdown",
   "metadata": {},
   "source": [
    "No multithreading, with type conversions"
   ]
  },
  {
   "cell_type": "code",
   "execution_count": 6,
   "metadata": {},
   "outputs": [
    {
     "name": "stderr",
     "output_type": "stream",
     "text": [
      "[INFO]  Matrix shape: 4096x8192\n",
      "[INFO]  Scipy: 0.5375030040740967\n",
      "[INFO]  Our: 0.44683170318603516\n",
      "[INFO]  83.13% of Scipy time!\n",
      "[INFO]  Matrix shape: 8192x4096\n",
      "[INFO]  Scipy: 0.12584877014160156\n",
      "[INFO]  Our: 0.43043088912963867\n",
      "[INFO]  342.02% of Scipy time!\n"
     ]
    }
   ],
   "source": [
    "def fft_cpp_impl_test():\n",
    "    result = random_matrix(4096, 4096 * 2)\n",
    "    start = time.time()\n",
    "    expected = scipy.fft.fft2(result)\n",
    "    scipy_time = time.time() - start\n",
    "    logging.info(f'Scipy: {scipy_time}')\n",
    "    start = time.time()\n",
    "    result = fft_project.fft2d(result, return_copy=True, use_threads=False)\n",
    "    our_time = time.time() - start\n",
    "    logging.info(f'Our: {our_time}')\n",
    "    logging.info(f'{our_time / scipy_time * 100:.2f}% of Scipy time!')\n",
    "    expected = abs(expected)\n",
    "    result = abs(result)\n",
    "    correctness = np.allclose(result, expected, atol=0.05)\n",
    "    assert correctness\n",
    "\n",
    "def inverse_test():\n",
    "    a = random_matrix(4096 * 2, 4096)\n",
    "    transformed = fft_project.fft2d(a, return_copy=True, use_threads=False)\n",
    "    start = time.time()\n",
    "    inversed_scipy = scipy.fft.ifft2(transformed, workers = -1)\n",
    "    scipy_time = time.time() - start\n",
    "    logging.info(f'Scipy: {scipy_time}')\n",
    "    inversed_our = transformed\n",
    "    start = time.time()\n",
    "    inversed_our = fft_project.fft2d(\n",
    "        inversed_our, return_copy=True, use_threads=False, inverse=True\n",
    "    )\n",
    "    our_time = time.time() - start\n",
    "    logging.info(f'Our: {our_time}')\n",
    "    logging.info(f'{our_time / scipy_time * 100:.2f}% of Scipy time!')\n",
    "    inversed_scipy = abs(inversed_scipy)\n",
    "    inversed_our = abs(inversed_our)\n",
    "    correctness = np.allclose(inversed_our, inversed_scipy, atol=0.05)\n",
    "    assert correctness\n",
    "\n",
    "fft_cpp_impl_test()\n",
    "inverse_test()"
   ]
  },
  {
   "cell_type": "markdown",
   "metadata": {},
   "source": [
    "With multithreading, no type conversions"
   ]
  },
  {
   "cell_type": "code",
   "execution_count": 7,
   "metadata": {},
   "outputs": [
    {
     "name": "stderr",
     "output_type": "stream",
     "text": [
      "[INFO]  Matrix shape: 4096x8192\n",
      "[INFO]  Scipy: 0.5311141014099121\n",
      "[INFO]  Our: 0.12965011596679688\n",
      "[INFO]  24.41% of Scipy time!\n",
      "[INFO]  Is the result correct: True\n",
      "[INFO]  Matrix shape: 8192x4096\n",
      "[INFO]  Scipy: 0.1320970058441162\n",
      "[INFO]  Our: 0.1804978847503662\n",
      "[INFO]  136.64% of Scipy time!\n",
      "[INFO]  Is the result correct: True\n"
     ]
    }
   ],
   "source": [
    "def fft_cpp_impl_test():\n",
    "    result = random_matrix(4096, 4096 * 2)\n",
    "    start = time.time()\n",
    "    expected = scipy.fft.fft2(result)\n",
    "    scipy_time = time.time() - start\n",
    "    logging.info(f'Scipy: {scipy_time}')\n",
    "    start = time.time()\n",
    "    result = fft_project.fft2d(result, return_copy=False, use_threads=True)\n",
    "    our_time = time.time() - start\n",
    "    logging.info(f'Our: {our_time}')\n",
    "    logging.info(f'{our_time / scipy_time * 100:.2f}% of Scipy time!')\n",
    "    expected = abs(expected)\n",
    "    result = abs(result)\n",
    "    correctness = np.allclose(result, expected, atol=0.05)\n",
    "    logging.info(f'Is the result correct: {correctness}')\n",
    "    assert correctness\n",
    "\n",
    "def inverse_test():\n",
    "    a = random_matrix(4096 * 2, 4096)\n",
    "    transformed = fft_project.fft2d(a, return_copy=False, use_threads=True)\n",
    "    start = time.time()\n",
    "    inversed_scipy = scipy.fft.ifft2(transformed, workers = -1)\n",
    "    scipy_time = time.time() - start\n",
    "    logging.info(f'Scipy: {scipy_time}')\n",
    "    inversed_our = transformed\n",
    "    start = time.time()\n",
    "    inversed_our = fft_project.fft2d(\n",
    "        inversed_our, return_copy=True, use_threads=True, inverse=True\n",
    "    )\n",
    "    our_time = time.time() - start\n",
    "    logging.info(f'Our: {our_time}')\n",
    "    logging.info(f'{our_time / scipy_time * 100:.2f}% of Scipy time!')\n",
    "    inversed_scipy = abs(inversed_scipy)\n",
    "    inversed_our = abs(inversed_our)\n",
    "    correctness = np.allclose(inversed_our, inversed_scipy, atol=0.05)\n",
    "    logging.info(f'Is the result correct: {correctness}')\n",
    "    assert correctness\n",
    "\n",
    "fft_cpp_impl_test()\n",
    "inverse_test()\n"
   ]
  }
 ],
 "metadata": {
  "kernelspec": {
   "display_name": "venv",
   "language": "python",
   "name": "python3"
  },
  "language_info": {
   "codemirror_mode": {
    "name": "ipython",
    "version": 3
   },
   "file_extension": ".py",
   "mimetype": "text/x-python",
   "name": "python",
   "nbconvert_exporter": "python",
   "pygments_lexer": "ipython3",
   "version": "3.9.6"
  }
 },
 "nbformat": 4,
 "nbformat_minor": 2
}
